{
 "cells": [
  {
   "cell_type": "markdown",
   "metadata": {},
   "source": [
    "# [home](index.html) | [home](index.html) | [home](index.html)"
   ]
  },
  {
   "cell_type": "markdown",
   "metadata": {},
   "source": [
    "# Challenge 1\n",
    "\n",
    "In this first challenge, we need to sum the even indexed items and then multiply this sum by the final element. The base example is:\n",
    "\n",
    "\\begin{equation}\n",
    "    [0,1,2,3,4,5] = (0+2+4)*5 = 30\n",
    "\\end{equation}\n",
    "\n",
    "Where 0,2,4 are the numbers at the even indexes (0,2,4). Remember that Python starts indexing at 0 and that 0 is [even](http://www.wikiwand.com/en/Parity_of_zero).  "
   ]
  },
  {
   "cell_type": "code",
   "execution_count": 5,
   "metadata": {
    "ExecuteTime": {
     "end_time": "2017-04-08T10:00:58.394774",
     "start_time": "2017-04-08T10:00:58.387621"
    }
   },
   "outputs": [],
   "source": [
    "def checkio(array):\n",
    "\n",
    "    #make sure array is not empty\n",
    "    if array == []:\n",
    "        return 0\n",
    "\n",
    "    even_index = array[0::2] #create a list that is the even arrays\n",
    "    \n",
    "    sum_even = sum(even_index) #sum this array\n",
    "    \n",
    "    las_num = array[-1] #retrieve the final number to multiply the sum by\n",
    "\n",
    "    # return the sum multiplied by the final number\n",
    "    return sum_even*las_num\n",
    "\n",
    "#These \"asserts\" using only for self-checking and not necessary for auto-testing\n",
    "if __name__ == '__main__':\n",
    "    assert checkio([0, 1, 2, 3, 4, 5]) == 30, \"(0+2+4)*5=30\"\n",
    "    assert checkio([1, 3, 5]) == 30, \"(1+5)*5=30\"\n",
    "    assert checkio([6]) == 36, \"(6)*6=36\"\n",
    "    assert checkio([]) == 0, \"An empty array = 0\"\n"
   ]
  },
  {
   "cell_type": "markdown",
   "metadata": {},
   "source": [
    "**Code Review**\n",
    "\n",
    "* `array[0::2]`: subset the array from 0 to the end (the blank bit between `::`), but takes every second index. \n",
    "* `array[-1]`: subset the array by retrieving the final element (counting backwards using -1). "
   ]
  },
  {
   "cell_type": "markdown",
   "metadata": {},
   "source": [
    "# Challenge 2\n",
    "\n",
    "In this challenge, we want to find a secret message by returning the capital letters in a string. My strategy for tackling this challenge was to use a list comprehension that iterates through each letter in the text and determines if the letter is capitalize."
   ]
  },
  {
   "cell_type": "code",
   "execution_count": 11,
   "metadata": {
    "ExecuteTime": {
     "end_time": "2017-04-08T11:05:08.638325",
     "start_time": "2017-04-08T11:05:08.632450"
    }
   },
   "outputs": [],
   "source": [
    "def find_message(text):\n",
    "\n",
    "    message = []\n",
    "    message[:] = [letter for letter in text if letter.isupper()==True]\n",
    "\n",
    "    return ''.join(message)\n",
    "\n",
    "if __name__ == '__main__':\n",
    "    #These \"asserts\" using only for self-checking and not necessary for auto-testing\n",
    "    assert find_message(u\"How are you? Eh, ok. Low or Lower? Ohhh.\") == \"HELLO\", \"hello\"\n",
    "    assert find_message(u\"hello world!\") == \"\", \"Nothing\"\n",
    "    assert find_message(u\"HELLO WORLD!!!\") == \"HELLOWORLD\", \"Capitals\"\n"
   ]
  },
  {
   "cell_type": "markdown",
   "metadata": {},
   "source": [
    "**Code Review**\n",
    "\n",
    "* The list comprehension should be self-explanatory if you have even a limited knowledge of control flows. The novel feature is that Python allows you to do this in a single line. Very Pythonic. The result is an array of just the capital letters from the string.\n",
    "* `''.join(message)`: we combined the array of capital letters using the `'join` function. We do not want any spaces, so we live the first bit blank. If we wanted to have a comma between each capital letter, we would write `','.join(message)`."
   ]
  },
  {
   "cell_type": "markdown",
   "metadata": {},
   "source": [
    "# Challenge 3\n",
    "\n",
    "In this challenge, we want to raise the nth index to the nth power. This is very straightforward. The only twist is that we need to use a `try except` flow in case an index is passed that is outside of the range of the array."
   ]
  },
  {
   "cell_type": "code",
   "execution_count": 7,
   "metadata": {
    "ExecuteTime": {
     "end_time": "2017-04-08T10:01:30.399880",
     "start_time": "2017-04-08T10:01:30.392786"
    },
    "collapsed": true
   },
   "outputs": [],
   "source": [
    "def index_power(array, n):\n",
    "\n",
    "    try:\n",
    "        result = array[n]**(n)\n",
    "        return result\n",
    "    except IndexError:\n",
    "        return -1\n",
    "\n",
    "if __name__ == '__main__':\n",
    "    #These \"asserts\" using only for self-checking and not necessary for auto-testing\n",
    "    assert index_power([1, 2, 3, 4], 2) == 9, \"Square\"\n",
    "    assert index_power([1, 3, 10, 100], 3) == 1000000, \"Cube\"\n",
    "    assert index_power([0, 1], 0) == 1, \"Zero power\"\n",
    "    assert index_power([1, 2], 3) == -1, \"IndexError\"\n"
   ]
  }
 ],
 "metadata": {
  "kernelspec": {
   "display_name": "Python 3",
   "language": "python",
   "name": "python3"
  },
  "language_info": {
   "codemirror_mode": {
    "name": "ipython",
    "version": 3
   },
   "file_extension": ".py",
   "mimetype": "text/x-python",
   "name": "python",
   "nbconvert_exporter": "python",
   "pygments_lexer": "ipython3",
   "version": "3.5.3"
  },
  "latex_envs": {
   "LaTeX_envs_menu_present": true,
   "bibliofile": "biblio.bib",
   "cite_by": "apalike",
   "current_citInitial": 1,
   "eqLabelWithNumbers": true,
   "eqNumInitial": 1,
   "labels_anchors": false,
   "latex_user_defs": false,
   "report_style_numbering": false,
   "user_envs_cfg": false
  },
  "toc": {
   "colors": {
    "hover_highlight": "#DAA520",
    "running_highlight": "#FF0000",
    "selected_highlight": "#FFD700"
   },
   "moveMenuLeft": true,
   "nav_menu": {
    "height": "66px",
    "width": "252px"
   },
   "navigate_menu": true,
   "number_sections": true,
   "sideBar": true,
   "threshold": 4,
   "toc_cell": false,
   "toc_section_display": "block",
   "toc_window_display": false
  }
 },
 "nbformat": 4,
 "nbformat_minor": 2
}
