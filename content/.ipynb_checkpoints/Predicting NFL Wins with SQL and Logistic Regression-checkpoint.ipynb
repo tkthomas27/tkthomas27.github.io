{
 "cells": [
  {
   "cell_type": "markdown",
   "metadata": {},
   "source": [
    "NFL season is upon us so let's engage in the time honored ritual of fatuously trying to predict games that a coin flip would do better at predicting. \n",
    "\n",
    "In this blog post we will:\n",
    "* get started with nfldb (limitations as well)\n",
    "* query our data\n",
    "* format for processing\n",
    "* deploy logistic regression"
   ]
  },
  {
   "cell_type": "markdown",
   "metadata": {},
   "source": [
    "# nfldb\n",
    "\n",
    "some words on nfldb and its limitations"
   ]
  },
  {
   "cell_type": "markdown",
   "metadata": {},
   "source": [
    "# Querying the Data\n",
    "\n",
    "now we have postresql set up we can query the data"
   ]
  },
  {
   "cell_type": "code",
   "execution_count": 9,
   "metadata": {
    "ExecuteTime": {
     "end_time": "2017-08-31T20:39:04.195358",
     "start_time": "2017-08-31T20:39:04.004979"
    },
    "collapsed": true
   },
   "outputs": [],
   "source": [
    "%matplotlib inline\n",
    "import psycopg2\n",
    "conn=psycopg2.connect(\"dbname='nfldb' user='kthomas1' host='localhost' password='' port=5432\")\n",
    "cur=conn.cursor()\n",
    "\n",
    "# our first query to get the most common colleges for nfl players\n",
    "cur.execute(\"\"\"SELECT college, count(*) as freq \n",
    "from player \n",
    "where college is not null \n",
    "group by college \n",
    "order by freq DESC \n",
    "limit 10\"\"\")\n"
   ]
  },
  {
   "cell_type": "code",
   "execution_count": 10,
   "metadata": {
    "ExecuteTime": {
     "end_time": "2017-08-31T20:39:05.768923",
     "start_time": "2017-08-31T20:39:05.459408"
    },
    "collapsed": false
   },
   "outputs": [
    {
     "data": {
      "text/html": [
       "<script>requirejs.config({paths: { 'plotly': ['https://cdn.plot.ly/plotly-latest.min']},});if(!window.Plotly) {{require(['plotly'],function(plotly) {window.Plotly=plotly;});}}</script>"
      ],
      "text/vnd.plotly.v1+html": [
       "<script>requirejs.config({paths: { 'plotly': ['https://cdn.plot.ly/plotly-latest.min']},});if(!window.Plotly) {{require(['plotly'],function(plotly) {window.Plotly=plotly;});}}</script>"
      ]
     },
     "metadata": {},
     "output_type": "display_data"
    },
    {
     "data": {
      "application/vnd.plotly.v1+json": {
       "data": [
        {
         "colorscale": [
          [
           0,
           "#00083e"
          ],
          [
           0.5,
           "#ededee"
          ],
          [
           1,
           "#ffffff"
          ]
         ],
         "hoverinfo": "none",
         "opacity": 0.75,
         "showscale": false,
         "type": "heatmap",
         "z": [
          [
           0,
           0
          ],
          [
           0.5,
           0.5
          ],
          [
           1,
           1
          ],
          [
           0.5,
           0.5
          ],
          [
           1,
           1
          ],
          [
           0.5,
           0.5
          ],
          [
           1,
           1
          ],
          [
           0.5,
           0.5
          ],
          [
           1,
           1
          ],
          [
           0.5,
           0.5
          ],
          [
           1,
           1
          ]
         ]
        }
       ],
       "layout": {
        "annotations": [
         {
          "align": "left",
          "font": {
           "color": "#ffffff"
          },
          "showarrow": false,
          "text": "<b>School</b>",
          "x": -0.45,
          "xanchor": "left",
          "xref": "x1",
          "y": 0,
          "yref": "y1"
         },
         {
          "align": "left",
          "font": {
           "color": "#ffffff"
          },
          "showarrow": false,
          "text": "<b>Count</b>",
          "x": 0.55,
          "xanchor": "left",
          "xref": "x1",
          "y": 0,
          "yref": "y1"
         },
         {
          "align": "left",
          "font": {
           "color": "#000000"
          },
          "showarrow": false,
          "text": "Ohio State",
          "x": -0.45,
          "xanchor": "left",
          "xref": "x1",
          "y": 1,
          "yref": "y1"
         },
         {
          "align": "left",
          "font": {
           "color": "#000000"
          },
          "showarrow": false,
          "text": "118",
          "x": 0.55,
          "xanchor": "left",
          "xref": "x1",
          "y": 1,
          "yref": "y1"
         },
         {
          "align": "left",
          "font": {
           "color": "#000000"
          },
          "showarrow": false,
          "text": "LSU",
          "x": -0.45,
          "xanchor": "left",
          "xref": "x1",
          "y": 2,
          "yref": "y1"
         },
         {
          "align": "left",
          "font": {
           "color": "#000000"
          },
          "showarrow": false,
          "text": "118",
          "x": 0.55,
          "xanchor": "left",
          "xref": "x1",
          "y": 2,
          "yref": "y1"
         },
         {
          "align": "left",
          "font": {
           "color": "#000000"
          },
          "showarrow": false,
          "text": "Miami (Fla.)",
          "x": -0.45,
          "xanchor": "left",
          "xref": "x1",
          "y": 3,
          "yref": "y1"
         },
         {
          "align": "left",
          "font": {
           "color": "#000000"
          },
          "showarrow": false,
          "text": "116",
          "x": 0.55,
          "xanchor": "left",
          "xref": "x1",
          "y": 3,
          "yref": "y1"
         },
         {
          "align": "left",
          "font": {
           "color": "#000000"
          },
          "showarrow": false,
          "text": "USC",
          "x": -0.45,
          "xanchor": "left",
          "xref": "x1",
          "y": 4,
          "yref": "y1"
         },
         {
          "align": "left",
          "font": {
           "color": "#000000"
          },
          "showarrow": false,
          "text": "113",
          "x": 0.55,
          "xanchor": "left",
          "xref": "x1",
          "y": 4,
          "yref": "y1"
         },
         {
          "align": "left",
          "font": {
           "color": "#000000"
          },
          "showarrow": false,
          "text": "Florida",
          "x": -0.45,
          "xanchor": "left",
          "xref": "x1",
          "y": 5,
          "yref": "y1"
         },
         {
          "align": "left",
          "font": {
           "color": "#000000"
          },
          "showarrow": false,
          "text": "107",
          "x": 0.55,
          "xanchor": "left",
          "xref": "x1",
          "y": 5,
          "yref": "y1"
         },
         {
          "align": "left",
          "font": {
           "color": "#000000"
          },
          "showarrow": false,
          "text": "Georgia",
          "x": -0.45,
          "xanchor": "left",
          "xref": "x1",
          "y": 6,
          "yref": "y1"
         },
         {
          "align": "left",
          "font": {
           "color": "#000000"
          },
          "showarrow": false,
          "text": "104",
          "x": 0.55,
          "xanchor": "left",
          "xref": "x1",
          "y": 6,
          "yref": "y1"
         },
         {
          "align": "left",
          "font": {
           "color": "#000000"
          },
          "showarrow": false,
          "text": "Florida State",
          "x": -0.45,
          "xanchor": "left",
          "xref": "x1",
          "y": 7,
          "yref": "y1"
         },
         {
          "align": "left",
          "font": {
           "color": "#000000"
          },
          "showarrow": false,
          "text": "98",
          "x": 0.55,
          "xanchor": "left",
          "xref": "x1",
          "y": 7,
          "yref": "y1"
         },
         {
          "align": "left",
          "font": {
           "color": "#000000"
          },
          "showarrow": false,
          "text": "Oklahoma",
          "x": -0.45,
          "xanchor": "left",
          "xref": "x1",
          "y": 8,
          "yref": "y1"
         },
         {
          "align": "left",
          "font": {
           "color": "#000000"
          },
          "showarrow": false,
          "text": "98",
          "x": 0.55,
          "xanchor": "left",
          "xref": "x1",
          "y": 8,
          "yref": "y1"
         },
         {
          "align": "left",
          "font": {
           "color": "#000000"
          },
          "showarrow": false,
          "text": "Alabama",
          "x": -0.45,
          "xanchor": "left",
          "xref": "x1",
          "y": 9,
          "yref": "y1"
         },
         {
          "align": "left",
          "font": {
           "color": "#000000"
          },
          "showarrow": false,
          "text": "95",
          "x": 0.55,
          "xanchor": "left",
          "xref": "x1",
          "y": 9,
          "yref": "y1"
         },
         {
          "align": "left",
          "font": {
           "color": "#000000"
          },
          "showarrow": false,
          "text": "Notre Dame",
          "x": -0.45,
          "xanchor": "left",
          "xref": "x1",
          "y": 10,
          "yref": "y1"
         },
         {
          "align": "left",
          "font": {
           "color": "#000000"
          },
          "showarrow": false,
          "text": "89",
          "x": 0.55,
          "xanchor": "left",
          "xref": "x1",
          "y": 10,
          "yref": "y1"
         }
        ],
        "height": 380,
        "margin": {
         "b": 0,
         "l": 0,
         "r": 0,
         "t": 0
        },
        "xaxis": {
         "dtick": 1,
         "gridwidth": 2,
         "showticklabels": false,
         "tick0": -0.5,
         "ticks": "",
         "zeroline": false
        },
        "yaxis": {
         "autorange": "reversed",
         "dtick": 1,
         "gridwidth": 2,
         "showticklabels": false,
         "tick0": 0.5,
         "ticks": "",
         "zeroline": false
        }
       }
      },
      "text/html": [
       "<div id=\"1322e9ef-fb54-41fc-9f93-2032115bbbc6\" style=\"height: 380px; width: 100%;\" class=\"plotly-graph-div\"></div><script type=\"text/javascript\">require([\"plotly\"], function(Plotly) { window.PLOTLYENV=window.PLOTLYENV || {};window.PLOTLYENV.BASE_URL=\"https://plot.ly\";Plotly.newPlot(\"1322e9ef-fb54-41fc-9f93-2032115bbbc6\", [{\"colorscale\": [[0, \"#00083e\"], [0.5, \"#ededee\"], [1, \"#ffffff\"]], \"type\": \"heatmap\", \"hoverinfo\": \"none\", \"showscale\": false, \"z\": [[0, 0], [0.5, 0.5], [1, 1], [0.5, 0.5], [1, 1], [0.5, 0.5], [1, 1], [0.5, 0.5], [1, 1], [0.5, 0.5], [1, 1]], \"opacity\": 0.75}], {\"margin\": {\"l\": 0, \"b\": 0, \"r\": 0, \"t\": 0}, \"xaxis\": {\"tick0\": -0.5, \"gridwidth\": 2, \"zeroline\": false, \"ticks\": \"\", \"dtick\": 1, \"showticklabels\": false}, \"yaxis\": {\"tick0\": 0.5, \"gridwidth\": 2, \"autorange\": \"reversed\", \"zeroline\": false, \"ticks\": \"\", \"dtick\": 1, \"showticklabels\": false}, \"annotations\": [{\"xanchor\": \"left\", \"x\": -0.45, \"text\": \"<b>School</b>\", \"yref\": \"y1\", \"xref\": \"x1\", \"align\": \"left\", \"font\": {\"color\": \"#ffffff\"}, \"y\": 0, \"showarrow\": false}, {\"xanchor\": \"left\", \"x\": 0.55, \"text\": \"<b>Count</b>\", \"yref\": \"y1\", \"xref\": \"x1\", \"align\": \"left\", \"font\": {\"color\": \"#ffffff\"}, \"y\": 0, \"showarrow\": false}, {\"xanchor\": \"left\", \"x\": -0.45, \"text\": \"Ohio State\", \"yref\": \"y1\", \"xref\": \"x1\", \"align\": \"left\", \"font\": {\"color\": \"#000000\"}, \"y\": 1, \"showarrow\": false}, {\"xanchor\": \"left\", \"x\": 0.55, \"text\": \"118\", \"yref\": \"y1\", \"xref\": \"x1\", \"align\": \"left\", \"font\": {\"color\": \"#000000\"}, \"y\": 1, \"showarrow\": false}, {\"xanchor\": \"left\", \"x\": -0.45, \"text\": \"LSU\", \"yref\": \"y1\", \"xref\": \"x1\", \"align\": \"left\", \"font\": {\"color\": \"#000000\"}, \"y\": 2, \"showarrow\": false}, {\"xanchor\": \"left\", \"x\": 0.55, \"text\": \"118\", \"yref\": \"y1\", \"xref\": \"x1\", \"align\": \"left\", \"font\": {\"color\": \"#000000\"}, \"y\": 2, \"showarrow\": false}, {\"xanchor\": \"left\", \"x\": -0.45, \"text\": \"Miami (Fla.)\", \"yref\": \"y1\", \"xref\": \"x1\", \"align\": \"left\", \"font\": {\"color\": \"#000000\"}, \"y\": 3, \"showarrow\": false}, {\"xanchor\": \"left\", \"x\": 0.55, \"text\": \"116\", \"yref\": \"y1\", \"xref\": \"x1\", \"align\": \"left\", \"font\": {\"color\": \"#000000\"}, \"y\": 3, \"showarrow\": false}, {\"xanchor\": \"left\", \"x\": -0.45, \"text\": \"USC\", \"yref\": \"y1\", \"xref\": \"x1\", \"align\": \"left\", \"font\": {\"color\": \"#000000\"}, \"y\": 4, \"showarrow\": false}, {\"xanchor\": \"left\", \"x\": 0.55, \"text\": \"113\", \"yref\": \"y1\", \"xref\": \"x1\", \"align\": \"left\", \"font\": {\"color\": \"#000000\"}, \"y\": 4, \"showarrow\": false}, {\"xanchor\": \"left\", \"x\": -0.45, \"text\": \"Florida\", \"yref\": \"y1\", \"xref\": \"x1\", \"align\": \"left\", \"font\": {\"color\": \"#000000\"}, \"y\": 5, \"showarrow\": false}, {\"xanchor\": \"left\", \"x\": 0.55, \"text\": \"107\", \"yref\": \"y1\", \"xref\": \"x1\", \"align\": \"left\", \"font\": {\"color\": \"#000000\"}, \"y\": 5, \"showarrow\": false}, {\"xanchor\": \"left\", \"x\": -0.45, \"text\": \"Georgia\", \"yref\": \"y1\", \"xref\": \"x1\", \"align\": \"left\", \"font\": {\"color\": \"#000000\"}, \"y\": 6, \"showarrow\": false}, {\"xanchor\": \"left\", \"x\": 0.55, \"text\": \"104\", \"yref\": \"y1\", \"xref\": \"x1\", \"align\": \"left\", \"font\": {\"color\": \"#000000\"}, \"y\": 6, \"showarrow\": false}, {\"xanchor\": \"left\", \"x\": -0.45, \"text\": \"Florida State\", \"yref\": \"y1\", \"xref\": \"x1\", \"align\": \"left\", \"font\": {\"color\": \"#000000\"}, \"y\": 7, \"showarrow\": false}, {\"xanchor\": \"left\", \"x\": 0.55, \"text\": \"98\", \"yref\": \"y1\", \"xref\": \"x1\", \"align\": \"left\", \"font\": {\"color\": \"#000000\"}, \"y\": 7, \"showarrow\": false}, {\"xanchor\": \"left\", \"x\": -0.45, \"text\": \"Oklahoma\", \"yref\": \"y1\", \"xref\": \"x1\", \"align\": \"left\", \"font\": {\"color\": \"#000000\"}, \"y\": 8, \"showarrow\": false}, {\"xanchor\": \"left\", \"x\": 0.55, \"text\": \"98\", \"yref\": \"y1\", \"xref\": \"x1\", \"align\": \"left\", \"font\": {\"color\": \"#000000\"}, \"y\": 8, \"showarrow\": false}, {\"xanchor\": \"left\", \"x\": -0.45, \"text\": \"Alabama\", \"yref\": \"y1\", \"xref\": \"x1\", \"align\": \"left\", \"font\": {\"color\": \"#000000\"}, \"y\": 9, \"showarrow\": false}, {\"xanchor\": \"left\", \"x\": 0.55, \"text\": \"95\", \"yref\": \"y1\", \"xref\": \"x1\", \"align\": \"left\", \"font\": {\"color\": \"#000000\"}, \"y\": 9, \"showarrow\": false}, {\"xanchor\": \"left\", \"x\": -0.45, \"text\": \"Notre Dame\", \"yref\": \"y1\", \"xref\": \"x1\", \"align\": \"left\", \"font\": {\"color\": \"#000000\"}, \"y\": 10, \"showarrow\": false}, {\"xanchor\": \"left\", \"x\": 0.55, \"text\": \"89\", \"yref\": \"y1\", \"xref\": \"x1\", \"align\": \"left\", \"font\": {\"color\": \"#000000\"}, \"y\": 10, \"showarrow\": false}], \"height\": 380}, {\"showLink\": true, \"linkText\": \"Export to plot.ly\"})});</script>"
      ],
      "text/vnd.plotly.v1+html": [
       "<div id=\"1322e9ef-fb54-41fc-9f93-2032115bbbc6\" style=\"height: 380px; width: 100%;\" class=\"plotly-graph-div\"></div><script type=\"text/javascript\">require([\"plotly\"], function(Plotly) { window.PLOTLYENV=window.PLOTLYENV || {};window.PLOTLYENV.BASE_URL=\"https://plot.ly\";Plotly.newPlot(\"1322e9ef-fb54-41fc-9f93-2032115bbbc6\", [{\"colorscale\": [[0, \"#00083e\"], [0.5, \"#ededee\"], [1, \"#ffffff\"]], \"type\": \"heatmap\", \"hoverinfo\": \"none\", \"showscale\": false, \"z\": [[0, 0], [0.5, 0.5], [1, 1], [0.5, 0.5], [1, 1], [0.5, 0.5], [1, 1], [0.5, 0.5], [1, 1], [0.5, 0.5], [1, 1]], \"opacity\": 0.75}], {\"margin\": {\"l\": 0, \"b\": 0, \"r\": 0, \"t\": 0}, \"xaxis\": {\"tick0\": -0.5, \"gridwidth\": 2, \"zeroline\": false, \"ticks\": \"\", \"dtick\": 1, \"showticklabels\": false}, \"yaxis\": {\"tick0\": 0.5, \"gridwidth\": 2, \"autorange\": \"reversed\", \"zeroline\": false, \"ticks\": \"\", \"dtick\": 1, \"showticklabels\": false}, \"annotations\": [{\"xanchor\": \"left\", \"x\": -0.45, \"text\": \"<b>School</b>\", \"yref\": \"y1\", \"xref\": \"x1\", \"align\": \"left\", \"font\": {\"color\": \"#ffffff\"}, \"y\": 0, \"showarrow\": false}, {\"xanchor\": \"left\", \"x\": 0.55, \"text\": \"<b>Count</b>\", \"yref\": \"y1\", \"xref\": \"x1\", \"align\": \"left\", \"font\": {\"color\": \"#ffffff\"}, \"y\": 0, \"showarrow\": false}, {\"xanchor\": \"left\", \"x\": -0.45, \"text\": \"Ohio State\", \"yref\": \"y1\", \"xref\": \"x1\", \"align\": \"left\", \"font\": {\"color\": \"#000000\"}, \"y\": 1, \"showarrow\": false}, {\"xanchor\": \"left\", \"x\": 0.55, \"text\": \"118\", \"yref\": \"y1\", \"xref\": \"x1\", \"align\": \"left\", \"font\": {\"color\": \"#000000\"}, \"y\": 1, \"showarrow\": false}, {\"xanchor\": \"left\", \"x\": -0.45, \"text\": \"LSU\", \"yref\": \"y1\", \"xref\": \"x1\", \"align\": \"left\", \"font\": {\"color\": \"#000000\"}, \"y\": 2, \"showarrow\": false}, {\"xanchor\": \"left\", \"x\": 0.55, \"text\": \"118\", \"yref\": \"y1\", \"xref\": \"x1\", \"align\": \"left\", \"font\": {\"color\": \"#000000\"}, \"y\": 2, \"showarrow\": false}, {\"xanchor\": \"left\", \"x\": -0.45, \"text\": \"Miami (Fla.)\", \"yref\": \"y1\", \"xref\": \"x1\", \"align\": \"left\", \"font\": {\"color\": \"#000000\"}, \"y\": 3, \"showarrow\": false}, {\"xanchor\": \"left\", \"x\": 0.55, \"text\": \"116\", \"yref\": \"y1\", \"xref\": \"x1\", \"align\": \"left\", \"font\": {\"color\": \"#000000\"}, \"y\": 3, \"showarrow\": false}, {\"xanchor\": \"left\", \"x\": -0.45, \"text\": \"USC\", \"yref\": \"y1\", \"xref\": \"x1\", \"align\": \"left\", \"font\": {\"color\": \"#000000\"}, \"y\": 4, \"showarrow\": false}, {\"xanchor\": \"left\", \"x\": 0.55, \"text\": \"113\", \"yref\": \"y1\", \"xref\": \"x1\", \"align\": \"left\", \"font\": {\"color\": \"#000000\"}, \"y\": 4, \"showarrow\": false}, {\"xanchor\": \"left\", \"x\": -0.45, \"text\": \"Florida\", \"yref\": \"y1\", \"xref\": \"x1\", \"align\": \"left\", \"font\": {\"color\": \"#000000\"}, \"y\": 5, \"showarrow\": false}, {\"xanchor\": \"left\", \"x\": 0.55, \"text\": \"107\", \"yref\": \"y1\", \"xref\": \"x1\", \"align\": \"left\", \"font\": {\"color\": \"#000000\"}, \"y\": 5, \"showarrow\": false}, {\"xanchor\": \"left\", \"x\": -0.45, \"text\": \"Georgia\", \"yref\": \"y1\", \"xref\": \"x1\", \"align\": \"left\", \"font\": {\"color\": \"#000000\"}, \"y\": 6, \"showarrow\": false}, {\"xanchor\": \"left\", \"x\": 0.55, \"text\": \"104\", \"yref\": \"y1\", \"xref\": \"x1\", \"align\": \"left\", \"font\": {\"color\": \"#000000\"}, \"y\": 6, \"showarrow\": false}, {\"xanchor\": \"left\", \"x\": -0.45, \"text\": \"Florida State\", \"yref\": \"y1\", \"xref\": \"x1\", \"align\": \"left\", \"font\": {\"color\": \"#000000\"}, \"y\": 7, \"showarrow\": false}, {\"xanchor\": \"left\", \"x\": 0.55, \"text\": \"98\", \"yref\": \"y1\", \"xref\": \"x1\", \"align\": \"left\", \"font\": {\"color\": \"#000000\"}, \"y\": 7, \"showarrow\": false}, {\"xanchor\": \"left\", \"x\": -0.45, \"text\": \"Oklahoma\", \"yref\": \"y1\", \"xref\": \"x1\", \"align\": \"left\", \"font\": {\"color\": \"#000000\"}, \"y\": 8, \"showarrow\": false}, {\"xanchor\": \"left\", \"x\": 0.55, \"text\": \"98\", \"yref\": \"y1\", \"xref\": \"x1\", \"align\": \"left\", \"font\": {\"color\": \"#000000\"}, \"y\": 8, \"showarrow\": false}, {\"xanchor\": \"left\", \"x\": -0.45, \"text\": \"Alabama\", \"yref\": \"y1\", \"xref\": \"x1\", \"align\": \"left\", \"font\": {\"color\": \"#000000\"}, \"y\": 9, \"showarrow\": false}, {\"xanchor\": \"left\", \"x\": 0.55, \"text\": \"95\", \"yref\": \"y1\", \"xref\": \"x1\", \"align\": \"left\", \"font\": {\"color\": \"#000000\"}, \"y\": 9, \"showarrow\": false}, {\"xanchor\": \"left\", \"x\": -0.45, \"text\": \"Notre Dame\", \"yref\": \"y1\", \"xref\": \"x1\", \"align\": \"left\", \"font\": {\"color\": \"#000000\"}, \"y\": 10, \"showarrow\": false}, {\"xanchor\": \"left\", \"x\": 0.55, \"text\": \"89\", \"yref\": \"y1\", \"xref\": \"x1\", \"align\": \"left\", \"font\": {\"color\": \"#000000\"}, \"y\": 10, \"showarrow\": false}], \"height\": 380}, {\"showLink\": true, \"linkText\": \"Export to plot.ly\"})});</script>"
      ]
     },
     "metadata": {},
     "output_type": "display_data"
    }
   ],
   "source": [
    "import plotly.figure_factory as ff\n",
    "from plotly.offline import init_notebook_mode, iplot\n",
    "init_notebook_mode(connected=True)\n",
    "\n",
    "college_count = cur.fetchall()\n",
    "college_count_head = [(\"School\",\"Count\")] + college_count\n",
    "college_count_table = ff.create_table(college_count_head)\n",
    "iplot(college_count_table, filename='college_count_table')"
   ]
  },
  {
   "cell_type": "code",
   "execution_count": 11,
   "metadata": {
    "ExecuteTime": {
     "end_time": "2017-08-31T20:39:06.093421",
     "start_time": "2017-08-31T20:39:06.054614"
    },
    "collapsed": false
   },
   "outputs": [
    {
     "data": {
      "text/plain": [
       "[('Robert McClain', 'DB', 27, 69, 195, 'Connecticut'),\n",
       " ('Daryl Williams', 'OT', 60, 78, 335, 'Oklahoma'),\n",
       " ('Jonathan Stewart', 'RB', 28, 70, 240, 'Oregon'),\n",
       " ('Brenton Bersin', 'WR', 11, 75, 210, 'Wofford'),\n",
       " ('Ted Ginn', 'WR', 19, 71, 180, 'Ohio State'),\n",
       " ('James Bradberry', 'CB', 24, 73, 210, 'Samford'),\n",
       " ('Daryl Worley', 'CB', 26, 73, 205, 'West Virginia'),\n",
       " ('Ryan Kalil', 'C', 67, 74, 300, 'USC'),\n",
       " ('Dean Marlowe', 'FS', 29, 73, 210, 'James Madison'),\n",
       " ('Tyler Larsen', 'OG', 69, 76, 335, 'Utah')]"
      ]
     },
     "execution_count": 11,
     "metadata": {},
     "output_type": "execute_result"
    }
   ],
   "source": [
    "conn=psycopg2.connect(\"dbname='nfldb' user='kthomas1' host='localhost' password='' port=5432\")\n",
    "cur=conn.cursor()\n",
    "\n",
    "cur.execute(\"\"\"SELECT full_name, position, uniform_number, height, weight, college\n",
    "from player\n",
    "where team='CAR'\n",
    "limit 10\"\"\")\n",
    "\n",
    "car_roster = cur.fetchall()\n",
    "\n",
    "#here we just display the raw results without\n",
    "car_roster"
   ]
  },
  {
   "cell_type": "markdown",
   "metadata": {},
   "source": [
    "problems with the dataset as with players not on team"
   ]
  },
  {
   "cell_type": "code",
   "execution_count": 12,
   "metadata": {
    "ExecuteTime": {
     "end_time": "2017-08-31T20:39:07.593572",
     "start_time": "2017-08-31T20:39:07.523990"
    },
    "collapsed": false
   },
   "outputs": [
    {
     "data": {
      "text/html": [
       "<div>\n",
       "<table border=\"1\" class=\"dataframe\">\n",
       "  <thead>\n",
       "    <tr style=\"text-align: right;\">\n",
       "      <th></th>\n",
       "      <th>away_score</th>\n",
       "      <th>away_team</th>\n",
       "      <th>away_win</th>\n",
       "      <th>home_score</th>\n",
       "      <th>home_team</th>\n",
       "      <th>home_win</th>\n",
       "      <th>tie</th>\n",
       "      <th>week</th>\n",
       "      <th>year</th>\n",
       "    </tr>\n",
       "  </thead>\n",
       "  <tbody>\n",
       "    <tr>\n",
       "      <th>864</th>\n",
       "      <td>20</td>\n",
       "      <td>SF</td>\n",
       "      <td>1</td>\n",
       "      <td>16</td>\n",
       "      <td>ARI</td>\n",
       "      <td>0</td>\n",
       "      <td>0</td>\n",
       "      <td>1</td>\n",
       "      <td>2009</td>\n",
       "    </tr>\n",
       "    <tr>\n",
       "      <th>153</th>\n",
       "      <td>31</td>\n",
       "      <td>IND</td>\n",
       "      <td>1</td>\n",
       "      <td>10</td>\n",
       "      <td>ARI</td>\n",
       "      <td>0</td>\n",
       "      <td>0</td>\n",
       "      <td>3</td>\n",
       "      <td>2009</td>\n",
       "    </tr>\n",
       "    <tr>\n",
       "      <th>250</th>\n",
       "      <td>21</td>\n",
       "      <td>HOU</td>\n",
       "      <td>0</td>\n",
       "      <td>28</td>\n",
       "      <td>ARI</td>\n",
       "      <td>1</td>\n",
       "      <td>0</td>\n",
       "      <td>5</td>\n",
       "      <td>2009</td>\n",
       "    </tr>\n",
       "    <tr>\n",
       "      <th>727</th>\n",
       "      <td>34</td>\n",
       "      <td>CAR</td>\n",
       "      <td>1</td>\n",
       "      <td>21</td>\n",
       "      <td>ARI</td>\n",
       "      <td>0</td>\n",
       "      <td>0</td>\n",
       "      <td>8</td>\n",
       "      <td>2009</td>\n",
       "    </tr>\n",
       "    <tr>\n",
       "      <th>281</th>\n",
       "      <td>20</td>\n",
       "      <td>SEA</td>\n",
       "      <td>0</td>\n",
       "      <td>31</td>\n",
       "      <td>ARI</td>\n",
       "      <td>1</td>\n",
       "      <td>0</td>\n",
       "      <td>10</td>\n",
       "      <td>2009</td>\n",
       "    </tr>\n",
       "    <tr>\n",
       "      <th>829</th>\n",
       "      <td>17</td>\n",
       "      <td>MIN</td>\n",
       "      <td>0</td>\n",
       "      <td>30</td>\n",
       "      <td>ARI</td>\n",
       "      <td>1</td>\n",
       "      <td>0</td>\n",
       "      <td>13</td>\n",
       "      <td>2009</td>\n",
       "    </tr>\n",
       "    <tr>\n",
       "      <th>917</th>\n",
       "      <td>10</td>\n",
       "      <td>STL</td>\n",
       "      <td>0</td>\n",
       "      <td>31</td>\n",
       "      <td>ARI</td>\n",
       "      <td>1</td>\n",
       "      <td>0</td>\n",
       "      <td>16</td>\n",
       "      <td>2009</td>\n",
       "    </tr>\n",
       "    <tr>\n",
       "      <th>361</th>\n",
       "      <td>33</td>\n",
       "      <td>GB</td>\n",
       "      <td>1</td>\n",
       "      <td>7</td>\n",
       "      <td>ARI</td>\n",
       "      <td>0</td>\n",
       "      <td>0</td>\n",
       "      <td>17</td>\n",
       "      <td>2009</td>\n",
       "    </tr>\n",
       "    <tr>\n",
       "      <th>860</th>\n",
       "      <td>7</td>\n",
       "      <td>MIA</td>\n",
       "      <td>0</td>\n",
       "      <td>19</td>\n",
       "      <td>ATL</td>\n",
       "      <td>1</td>\n",
       "      <td>0</td>\n",
       "      <td>1</td>\n",
       "      <td>2009</td>\n",
       "    </tr>\n",
       "    <tr>\n",
       "      <th>1115</th>\n",
       "      <td>20</td>\n",
       "      <td>CAR</td>\n",
       "      <td>0</td>\n",
       "      <td>28</td>\n",
       "      <td>ATL</td>\n",
       "      <td>1</td>\n",
       "      <td>0</td>\n",
       "      <td>2</td>\n",
       "      <td>2009</td>\n",
       "    </tr>\n",
       "  </tbody>\n",
       "</table>\n",
       "</div>"
      ],
      "text/plain": [
       "      away_score away_team  away_win  home_score home_team  home_win  tie  \\\n",
       "864           20        SF         1          16       ARI         0    0   \n",
       "153           31       IND         1          10       ARI         0    0   \n",
       "250           21       HOU         0          28       ARI         1    0   \n",
       "727           34       CAR         1          21       ARI         0    0   \n",
       "281           20       SEA         0          31       ARI         1    0   \n",
       "829           17       MIN         0          30       ARI         1    0   \n",
       "917           10       STL         0          31       ARI         1    0   \n",
       "361           33        GB         1           7       ARI         0    0   \n",
       "860            7       MIA         0          19       ATL         1    0   \n",
       "1115          20       CAR         0          28       ATL         1    0   \n",
       "\n",
       "      week  year  \n",
       "864      1  2009  \n",
       "153      3  2009  \n",
       "250      5  2009  \n",
       "727      8  2009  \n",
       "281     10  2009  \n",
       "829     13  2009  \n",
       "917     16  2009  \n",
       "361     17  2009  \n",
       "860      1  2009  \n",
       "1115     2  2009  "
      ]
     },
     "execution_count": 12,
     "metadata": {},
     "output_type": "execute_result"
    }
   ],
   "source": [
    "# import pandas and numpy for \n",
    "import pandas as pd\n",
    "import numpy as np\n",
    "\n",
    "# query game results\n",
    "conn=psycopg2.connect(\"dbname='nfldb' user='kthomas1' host='localhost' password='' port=5432\")\n",
    "cur=conn.cursor()\n",
    "cur.execute(\"\"\"select season_year, week, home_team, home_score, away_team, away_score\n",
    "from game\n",
    "where season_type='Regular'\"\"\")\n",
    "\n",
    "#put results into a dataframe\n",
    "raw = cur.fetchall()\n",
    "game_results=pd.DataFrame(raw,columns=['year','week','home_team','home_score','away_team','away_score'])\n",
    "\n",
    "#replace la with stl\n",
    "game_results.replace(to_replace='LA', value='STL', inplace=True)\n",
    "\n",
    "# compute wins and ties\n",
    "game_results['home_win'] = [1 if x>y else 0 for x,y in zip(game_results['home_score'],game_results['away_score'])]\n",
    "game_results['away_win'] = [1 if x<y else 0 for x,y in zip(game_results['home_score'],game_results['away_score'])]\n",
    "game_results['tie'] = [1 if x==y else 0 for x,y in zip(game_results['home_score'],game_results['away_score'])]\n",
    "\n",
    "# sort the dataframe\n",
    "game_results=game_results.sort_values(by=['year','home_team','week'])\n",
    "\n",
    "# add week 2017 to results --> not yet in nfldb so has to be added manually\n",
    "w2017 = pd.read_csv('~/desktop/2017_w1.csv')\n",
    "game_results = game_results.append(w2017)\n",
    "\n",
    "game_results.head(10)\n"
   ]
  },
  {
   "cell_type": "markdown",
   "metadata": {},
   "source": [
    "explain list comprehension used to code wins/ties"
   ]
  },
  {
   "cell_type": "code",
   "execution_count": 13,
   "metadata": {
    "ExecuteTime": {
     "end_time": "2017-08-31T20:39:09.262582",
     "start_time": "2017-08-31T20:39:09.258760"
    },
    "collapsed": false
   },
   "outputs": [],
   "source": [
    "#base line is just always guessing home wins --> compare to cross validated accuracy score\n",
    "total_games = len(game_results)\n",
    "home_wins = game_results.home_win.sum()\n",
    "home_win_rate = home_wins/total_games\n",
    "#print as a nice string"
   ]
  },
  {
   "cell_type": "code",
   "execution_count": 14,
   "metadata": {
    "ExecuteTime": {
     "end_time": "2017-08-31T20:39:10.361380",
     "start_time": "2017-08-31T20:39:09.915090"
    },
    "collapsed": true
   },
   "outputs": [],
   "source": [
    "cur.execute(\"\"\"select drive.pos_team, drive.drive_id, drive.pos_time, drive.first_downs, drive.yards_gained, drive.play_count, drive.result, game.season_year, game.week, game.season_type, game.home_team, game.away_team\n",
    "from drive\n",
    "inner join game on drive.gsis_id=game.gsis_id\n",
    "where season_type='Regular'\"\"\")\n",
    "\n",
    "stats = cur.fetchall()\n",
    "\n",
    "stats = pd.DataFrame(stats,columns=['pos_team','drive_id','pos_time','first_downs','yards_gained','play_count','result','season_year','week','season_type','home_team','away_team'])\n",
    "\n",
    "#replace la with stl\n",
    "stats.replace(to_replace='LA', value='STL', inplace=True)\n",
    "\n",
    "# encode points results\n",
    "stats['points'] = [3 if x==\"Field Goal\" else 7 if x==\"Touchdown\" else 0 for x in stats['result']]\n",
    "\n",
    "# encode turnover results\n",
    "stats['turnover'] = [1 if x==(\"Interception\" or \"Fumble\" or \"Safety\" or \"Blocked FG\" or \"Fumble, Safety\" or \"Blocked Punt\" or \"Blocked Punt, Downs\" or \"Blocked FG, Downs\") else 0 for x in stats['result']]\n"
   ]
  },
  {
   "cell_type": "markdown",
   "metadata": {},
   "source": [
    "linking the two datasets\n",
    "fixing LA and STL \n",
    "assumptions on turnovers -- not precise but will be fine for now"
   ]
  },
  {
   "cell_type": "code",
   "execution_count": 15,
   "metadata": {
    "ExecuteTime": {
     "end_time": "2017-08-31T20:39:11.395124",
     "start_time": "2017-08-31T20:39:11.353354"
    },
    "collapsed": true
   },
   "outputs": [],
   "source": [
    "# defense\n",
    "stats_d = stats\n",
    "stats_d['opp_team'] = np.where(stats_d['pos_team']==stats_d['home_team'], stats_d['away_team'], stats_d['home_team'])\n",
    "#subset to defensive stats\n",
    "stats_d = stats_d[['season_year','week','opp_team','yards_gained','points','turnover']]\n",
    "# rename columns\n",
    "stats_d.columns = ['year','week','team','yards_allowed','points_allowed','turnovers_forced']\n",
    "\n",
    "stats_d_2017 = pd.read_csv('~/desktop/nfl_2017_stats_d.csv')\n",
    "stats_d=stats_d.append(stats_d_2017)\n",
    "\n",
    "# look at the numbers\n",
    "# table = pd.pivot_table(stats_d, values=['yards_allowed','points_allowed','turnovers_forced'], index=['year', 'team'], aggfunc=np.sum)\n",
    "# table.sort_values(by='turnovers_forced',ascending=False)\n"
   ]
  },
  {
   "cell_type": "markdown",
   "metadata": {},
   "source": [
    "note the [[ notation for subsetting\n",
    "renaming columns\n",
    "manually adding in 2017 statistics (needs imporovement)\n",
    "\n",
    "comment on the table\n",
    "\n",
    "now need for aggregate rolling 5 week numbers"
   ]
  },
  {
   "cell_type": "code",
   "execution_count": 16,
   "metadata": {
    "ExecuteTime": {
     "end_time": "2017-08-31T20:39:12.581598",
     "start_time": "2017-08-31T20:39:12.506584"
    },
    "collapsed": true
   },
   "outputs": [],
   "source": [
    "# aggregate rolling 5 week\n",
    "## sort at year, team, week\n",
    "stats_d.sort_values(by=['team','year','week'],inplace=True)\n",
    "## sum across year team week\n",
    "stats_d=stats_d.groupby(by=['team','year','week'],as_index=False).sum()\n",
    "## rolling 2 week lagged\n",
    "rolling = stats_d.groupby(['team'],as_index=False)['yards_allowed','points_allowed','turnovers_forced'].rolling(5).sum().shift(1).reset_index()\n",
    "## join together\n",
    "stats_d=stats_d.join(rolling,lsuffix='_weekly',rsuffix='_rolling')"
   ]
  },
  {
   "cell_type": "markdown",
   "metadata": {},
   "source": [
    "rolling five weeks\n",
    "sort; collapse to team-year-week level; \n",
    "rolling -> explain rolling, shift and reset_index\n",
    "join rolling stats with weekly stats - explain suffix"
   ]
  },
  {
   "cell_type": "code",
   "execution_count": 17,
   "metadata": {
    "ExecuteTime": {
     "end_time": "2017-08-31T20:39:13.902925",
     "start_time": "2017-08-31T20:39:13.786915"
    },
    "collapsed": true
   },
   "outputs": [],
   "source": [
    "# offense\n",
    "stats_o = stats\n",
    "stats_o=stats_o.rename(columns = {'pos_team':'team'})\n",
    "stats_o=stats_o.rename(columns = {'season_year':'year'})\n",
    "stats_o = stats_o[['team','year','week','first_downs','yards_gained','play_count','points','turnover']]\n",
    "\n",
    "stats_o_2017 = pd.read_csv('~/desktop/nfl_2017_stats_o.csv')\n",
    "stats_o=stats_o.append(stats_o_2017)\n",
    "\n",
    "# aggregate rolling 5 week\n",
    "## sort at year, team, week\n",
    "stats_o.sort_values(by=['team','year','week'],inplace=True)\n",
    "## sum across year team week\n",
    "stats_o=stats_o.groupby(by=['team','year','week'],as_index=False).sum()\n",
    "## rolling 5 week lagged\n",
    "rolling = stats_o.groupby(['team'],as_index=False)['first_downs','yards_gained','play_count','points','turnover'].rolling(5).sum().shift(1).reset_index()\n",
    "## join together\n",
    "stats_o=stats_o.join(rolling,lsuffix='_weekly',rsuffix='_rolling')"
   ]
  },
  {
   "cell_type": "code",
   "execution_count": 18,
   "metadata": {
    "ExecuteTime": {
     "end_time": "2017-08-31T20:39:14.923220",
     "start_time": "2017-08-31T20:39:14.402855"
    },
    "collapsed": true
   },
   "outputs": [],
   "source": [
    "## combine offense and defense\n",
    "stats_o = stats_o.drop(['level_0','level_1'], axis=1)\n",
    "stats_d = stats_d.drop(['level_0','level_1'], axis=1)\n",
    "stats_od=pd.concat([stats_d,stats_o],axis=1)\n",
    "stats_od=stats_od.T.drop_duplicates().T\n",
    "\n",
    "\n",
    "#simplify dataset\n",
    "stats_od=stats_od[stats_od['year']!=2009]\n",
    "weekly_stats = [col for col in stats_od if col.endswith('weekly')]\n",
    "stats_od = stats_od.drop(weekly_stats, axis=1)\n",
    "\n",
    "# convert to numeric\n",
    "stats_od=stats_od.apply(pd.to_numeric, errors='ignore')\n"
   ]
  },
  {
   "cell_type": "code",
   "execution_count": 19,
   "metadata": {
    "ExecuteTime": {
     "end_time": "2017-08-31T20:39:15.267839",
     "start_time": "2017-08-31T20:39:15.238445"
    },
    "collapsed": true
   },
   "outputs": [],
   "source": [
    "games = game_results\n",
    "\n",
    "stats_od.columns=['team','year','week','ya','pa','tf','fd','yg','pc','p','t']\n",
    "\n",
    "games=pd.merge(pd.merge(games,stats_od,left_on=['home_team','year','week'],right_on=['team','year','week']),stats_od,left_on=['away_team','year','week'],right_on=['team','year','week'],suffixes=['_home','_away'])\n",
    "\n",
    "\n",
    "\n",
    "diffs=['ya','pa','tf','fd','yg','pc','p','t']\n",
    "\n",
    "for i in diffs:\n",
    "    diff_column = i + \"_diff\"\n",
    "    home_column = i + \"_home\"\n",
    "    away_column = i + \"_away\"\n",
    "    games[diff_column] = games[home_column] - games[away_column]\n",
    "\n",
    "\n",
    "home = [col for col in games if col.endswith('home')]\n",
    "away = [col for col in games if col.endswith('away')]\n",
    "\n",
    "games_w = games.drop(home,axis=1)\n",
    "games_w = games_w.drop(away,axis=1)"
   ]
  },
  {
   "cell_type": "markdown",
   "metadata": {},
   "source": [
    "# Model"
   ]
  },
  {
   "cell_type": "code",
   "execution_count": 20,
   "metadata": {
    "ExecuteTime": {
     "end_time": "2017-08-31T20:39:17.563569",
     "start_time": "2017-08-31T20:39:17.050830"
    },
    "collapsed": false
   },
   "outputs": [
    {
     "name": "stdout",
     "output_type": "stream",
     "text": [
      "Optimization terminated successfully.\n",
      "         Current function value: 0.644531\n",
      "         Iterations 5\n",
      "                           Logit Regression Results                           \n",
      "==============================================================================\n",
      "Dep. Variable:               home_win   No. Observations:                 1792\n",
      "Model:                          Logit   Df Residuals:                     1783\n",
      "Method:                           MLE   Df Model:                            8\n",
      "Date:                Thu, 31 Aug 2017   Pseudo R-squ.:                 0.05770\n",
      "Time:                        20:39:17   Log-Likelihood:                -1155.0\n",
      "converged:                       True   LL-Null:                       -1225.7\n",
      "                                        LLR p-value:                 1.179e-26\n",
      "==============================================================================\n",
      "                 coef    std err          z      P>|z|      [95.0% Conf. Int.]\n",
      "------------------------------------------------------------------------------\n",
      "ya_diff       -0.0003      0.000     -1.050      0.294        -0.001     0.000\n",
      "pa_diff       -0.0061      0.002     -2.541      0.011        -0.011    -0.001\n",
      "tf_diff        0.0069      0.017      0.402      0.687        -0.027     0.041\n",
      "fd_diff        0.0101      0.006      1.763      0.078        -0.001     0.021\n",
      "yg_diff        0.0002      0.000      0.470      0.638        -0.000     0.001\n",
      "pc_diff       -0.0042      0.002     -2.341      0.019        -0.008    -0.001\n",
      "p_diff         0.0091      0.003      3.610      0.000         0.004     0.014\n",
      "t_diff        -0.0262      0.017     -1.504      0.133        -0.060     0.008\n",
      "intercept      0.3240      0.050      6.475      0.000         0.226     0.422\n",
      "==============================================================================\n"
     ]
    },
    {
     "name": "stderr",
     "output_type": "stream",
     "text": [
      "/Users/kthomas1/anaconda3/lib/python3.5/site-packages/ipykernel/__main__.py:6: SettingWithCopyWarning:\n",
      "\n",
      "\n",
      "A value is trying to be set on a copy of a slice from a DataFrame.\n",
      "Try using .loc[row_indexer,col_indexer] = value instead\n",
      "\n",
      "See the caveats in the documentation: http://pandas.pydata.org/pandas-docs/stable/indexing.html#indexing-view-versus-copy\n",
      "\n",
      "/Users/kthomas1/anaconda3/lib/python3.5/site-packages/ipykernel/__main__.py:7: SettingWithCopyWarning:\n",
      "\n",
      "\n",
      "A value is trying to be set on a copy of a slice from a DataFrame.\n",
      "Try using .loc[row_indexer,col_indexer] = value instead\n",
      "\n",
      "See the caveats in the documentation: http://pandas.pydata.org/pandas-docs/stable/indexing.html#indexing-view-versus-copy\n",
      "\n"
     ]
    }
   ],
   "source": [
    "import statsmodels.api as sm\n",
    "\n",
    "games_16 = games_w[games_w['year']<2017] \n",
    "games_17 = games_w[games_w['year']==2017]\n",
    "\n",
    "games_16['intercept'] = 1.0\n",
    "games_17['intercept'] = 1.0\n",
    "\n",
    "training_cols = [col for col in games_w if col.endswith('diff')]\n",
    "training_cols = training_cols + [\"intercept\"]\n",
    "\n",
    "logit = sm.Logit(games_16['home_win'], games_16[training_cols])\n",
    "\n",
    "result = logit.fit()\n",
    "\n",
    "print(result.summary())\n"
   ]
  },
  {
   "cell_type": "code",
   "execution_count": 21,
   "metadata": {
    "ExecuteTime": {
     "end_time": "2017-08-31T20:39:18.303101",
     "start_time": "2017-08-31T20:39:18.298565"
    },
    "collapsed": false
   },
   "outputs": [
    {
     "name": "stdout",
     "output_type": "stream",
     "text": [
      "ya_diff      0.999744\n",
      "pa_diff      0.993909\n",
      "tf_diff      1.006948\n",
      "fd_diff      1.010130\n",
      "yg_diff      1.000156\n",
      "pc_diff      0.995846\n",
      "p_diff       1.009127\n",
      "t_diff       0.974167\n",
      "intercept    1.382711\n",
      "dtype: float64\n"
     ]
    }
   ],
   "source": [
    "#log odds\n",
    "print(np.exp(result.params))"
   ]
  },
  {
   "cell_type": "code",
   "execution_count": 22,
   "metadata": {
    "ExecuteTime": {
     "end_time": "2017-08-31T20:39:19.810142",
     "start_time": "2017-08-31T20:39:19.676825"
    },
    "collapsed": false
   },
   "outputs": [
    {
     "name": "stderr",
     "output_type": "stream",
     "text": [
      "/Users/kthomas1/anaconda3/lib/python3.5/site-packages/ipykernel/__main__.py:3: SettingWithCopyWarning:\n",
      "\n",
      "\n",
      "A value is trying to be set on a copy of a slice from a DataFrame.\n",
      "Try using .loc[row_indexer,col_indexer] = value instead\n",
      "\n",
      "See the caveats in the documentation: http://pandas.pydata.org/pandas-docs/stable/indexing.html#indexing-view-versus-copy\n",
      "\n",
      "/Users/kthomas1/anaconda3/lib/python3.5/site-packages/ipykernel/__main__.py:5: SettingWithCopyWarning:\n",
      "\n",
      "\n",
      "A value is trying to be set on a copy of a slice from a DataFrame.\n",
      "Try using .loc[row_indexer,col_indexer] = value instead\n",
      "\n",
      "See the caveats in the documentation: http://pandas.pydata.org/pandas-docs/stable/indexing.html#indexing-view-versus-copy\n",
      "\n"
     ]
    },
    {
     "data": {
      "text/html": [
       "<div>\n",
       "<table border=\"1\" class=\"dataframe\">\n",
       "  <thead>\n",
       "    <tr style=\"text-align: right;\">\n",
       "      <th></th>\n",
       "      <th>home_team</th>\n",
       "      <th>away_team</th>\n",
       "      <th>winner</th>\n",
       "      <th>win_prob</th>\n",
       "    </tr>\n",
       "  </thead>\n",
       "  <tbody>\n",
       "    <tr>\n",
       "      <th>1792</th>\n",
       "      <td>NE</td>\n",
       "      <td>KC</td>\n",
       "      <td>NE</td>\n",
       "      <td>0.710694</td>\n",
       "    </tr>\n",
       "    <tr>\n",
       "      <th>1793</th>\n",
       "      <td>DET</td>\n",
       "      <td>ARZ</td>\n",
       "      <td>ARZ</td>\n",
       "      <td>0.476726</td>\n",
       "    </tr>\n",
       "    <tr>\n",
       "      <th>1794</th>\n",
       "      <td>CHI</td>\n",
       "      <td>ATL</td>\n",
       "      <td>ATL</td>\n",
       "      <td>0.294886</td>\n",
       "    </tr>\n",
       "    <tr>\n",
       "      <th>1795</th>\n",
       "      <td>CIN</td>\n",
       "      <td>BAL</td>\n",
       "      <td>CIN</td>\n",
       "      <td>0.668382</td>\n",
       "    </tr>\n",
       "    <tr>\n",
       "      <th>1796</th>\n",
       "      <td>HOU</td>\n",
       "      <td>JAC</td>\n",
       "      <td>HOU</td>\n",
       "      <td>0.608525</td>\n",
       "    </tr>\n",
       "    <tr>\n",
       "      <th>1797</th>\n",
       "      <td>BUF</td>\n",
       "      <td>NYJ</td>\n",
       "      <td>BUF</td>\n",
       "      <td>0.727418</td>\n",
       "    </tr>\n",
       "    <tr>\n",
       "      <th>1798</th>\n",
       "      <td>TEN</td>\n",
       "      <td>OAK</td>\n",
       "      <td>TEN</td>\n",
       "      <td>0.530880</td>\n",
       "    </tr>\n",
       "    <tr>\n",
       "      <th>1799</th>\n",
       "      <td>WAS</td>\n",
       "      <td>PHL</td>\n",
       "      <td>WAS</td>\n",
       "      <td>0.668242</td>\n",
       "    </tr>\n",
       "    <tr>\n",
       "      <th>1800</th>\n",
       "      <td>CLE</td>\n",
       "      <td>PIT</td>\n",
       "      <td>PIT</td>\n",
       "      <td>0.413322</td>\n",
       "    </tr>\n",
       "    <tr>\n",
       "      <th>1801</th>\n",
       "      <td>MIA</td>\n",
       "      <td>TB</td>\n",
       "      <td>TB</td>\n",
       "      <td>0.496940</td>\n",
       "    </tr>\n",
       "    <tr>\n",
       "      <th>1802</th>\n",
       "      <td>STL</td>\n",
       "      <td>IND</td>\n",
       "      <td>IND</td>\n",
       "      <td>0.197216</td>\n",
       "    </tr>\n",
       "    <tr>\n",
       "      <th>1803</th>\n",
       "      <td>SF</td>\n",
       "      <td>CAR</td>\n",
       "      <td>SF</td>\n",
       "      <td>0.550023</td>\n",
       "    </tr>\n",
       "    <tr>\n",
       "      <th>1804</th>\n",
       "      <td>GB</td>\n",
       "      <td>SEA</td>\n",
       "      <td>GB</td>\n",
       "      <td>0.657913</td>\n",
       "    </tr>\n",
       "    <tr>\n",
       "      <th>1805</th>\n",
       "      <td>DAL</td>\n",
       "      <td>NYG</td>\n",
       "      <td>DAL</td>\n",
       "      <td>0.644344</td>\n",
       "    </tr>\n",
       "    <tr>\n",
       "      <th>1806</th>\n",
       "      <td>MIN</td>\n",
       "      <td>NO</td>\n",
       "      <td>MIN</td>\n",
       "      <td>0.602661</td>\n",
       "    </tr>\n",
       "    <tr>\n",
       "      <th>1807</th>\n",
       "      <td>DEN</td>\n",
       "      <td>SD</td>\n",
       "      <td>DEN</td>\n",
       "      <td>0.528089</td>\n",
       "    </tr>\n",
       "  </tbody>\n",
       "</table>\n",
       "</div>"
      ],
      "text/plain": [
       "     home_team away_team winner  win_prob\n",
       "1792        NE        KC     NE  0.710694\n",
       "1793       DET       ARZ    ARZ  0.476726\n",
       "1794       CHI       ATL    ATL  0.294886\n",
       "1795       CIN       BAL    CIN  0.668382\n",
       "1796       HOU       JAC    HOU  0.608525\n",
       "1797       BUF       NYJ    BUF  0.727418\n",
       "1798       TEN       OAK    TEN  0.530880\n",
       "1799       WAS       PHL    WAS  0.668242\n",
       "1800       CLE       PIT    PIT  0.413322\n",
       "1801       MIA        TB     TB  0.496940\n",
       "1802       STL       IND    IND  0.197216\n",
       "1803        SF       CAR     SF  0.550023\n",
       "1804        GB       SEA     GB  0.657913\n",
       "1805       DAL       NYG    DAL  0.644344\n",
       "1806       MIN        NO    MIN  0.602661\n",
       "1807       DEN        SD    DEN  0.528089"
      ]
     },
     "execution_count": 22,
     "metadata": {},
     "output_type": "execute_result"
    }
   ],
   "source": [
    "preds=result.predict(games_17[training_cols])\n",
    "\n",
    "games_17['win_prob'] = preds\n",
    "\n",
    "games_17['winner'] = np.where(games_17['win_prob']>.5,games_17['home_team'],games_17['away_team'])\n",
    "\n",
    "games_17[['home_team','away_team','winner','win_prob']]"
   ]
  },
  {
   "cell_type": "markdown",
   "metadata": {},
   "source": [
    "## Better Model\n",
    "\n",
    "normalize variables\n",
    "cross validation\n",
    "shrinkage\n",
    "\n",
    "do same thing but with sklearn just to verify"
   ]
  },
  {
   "cell_type": "code",
   "execution_count": 23,
   "metadata": {
    "ExecuteTime": {
     "end_time": "2017-08-31T20:39:22.517449",
     "start_time": "2017-08-31T20:39:21.882004"
    },
    "collapsed": false
   },
   "outputs": [
    {
     "name": "stderr",
     "output_type": "stream",
     "text": [
      "/Users/kthomas1/anaconda3/lib/python3.5/site-packages/ipykernel/__main__.py:13: SettingWithCopyWarning:\n",
      "\n",
      "\n",
      "A value is trying to be set on a copy of a slice from a DataFrame.\n",
      "Try using .loc[row_indexer,col_indexer] = value instead\n",
      "\n",
      "See the caveats in the documentation: http://pandas.pydata.org/pandas-docs/stable/indexing.html#indexing-view-versus-copy\n",
      "\n",
      "/Users/kthomas1/anaconda3/lib/python3.5/site-packages/ipykernel/__main__.py:15: SettingWithCopyWarning:\n",
      "\n",
      "\n",
      "A value is trying to be set on a copy of a slice from a DataFrame.\n",
      "Try using .loc[row_indexer,col_indexer] = value instead\n",
      "\n",
      "See the caveats in the documentation: http://pandas.pydata.org/pandas-docs/stable/indexing.html#indexing-view-versus-copy\n",
      "\n",
      "/Users/kthomas1/anaconda3/lib/python3.5/site-packages/ipykernel/__main__.py:17: SettingWithCopyWarning:\n",
      "\n",
      "\n",
      "A value is trying to be set on a copy of a slice from a DataFrame.\n",
      "Try using .loc[row_indexer,col_indexer] = value instead\n",
      "\n",
      "See the caveats in the documentation: http://pandas.pydata.org/pandas-docs/stable/indexing.html#indexing-view-versus-copy\n",
      "\n"
     ]
    },
    {
     "data": {
      "text/html": [
       "<div>\n",
       "<table border=\"1\" class=\"dataframe\">\n",
       "  <thead>\n",
       "    <tr style=\"text-align: right;\">\n",
       "      <th></th>\n",
       "      <th>home_team</th>\n",
       "      <th>away_team</th>\n",
       "      <th>winner</th>\n",
       "      <th>win_prob</th>\n",
       "    </tr>\n",
       "  </thead>\n",
       "  <tbody>\n",
       "    <tr>\n",
       "      <th>1792</th>\n",
       "      <td>NE</td>\n",
       "      <td>KC</td>\n",
       "      <td>NE</td>\n",
       "      <td>0.710502</td>\n",
       "    </tr>\n",
       "    <tr>\n",
       "      <th>1793</th>\n",
       "      <td>DET</td>\n",
       "      <td>ARZ</td>\n",
       "      <td>ARZ</td>\n",
       "      <td>0.476534</td>\n",
       "    </tr>\n",
       "    <tr>\n",
       "      <th>1794</th>\n",
       "      <td>CHI</td>\n",
       "      <td>ATL</td>\n",
       "      <td>ATL</td>\n",
       "      <td>0.294762</td>\n",
       "    </tr>\n",
       "    <tr>\n",
       "      <th>1795</th>\n",
       "      <td>CIN</td>\n",
       "      <td>BAL</td>\n",
       "      <td>CIN</td>\n",
       "      <td>0.668178</td>\n",
       "    </tr>\n",
       "    <tr>\n",
       "      <th>1796</th>\n",
       "      <td>HOU</td>\n",
       "      <td>JAC</td>\n",
       "      <td>HOU</td>\n",
       "      <td>0.608317</td>\n",
       "    </tr>\n",
       "    <tr>\n",
       "      <th>1797</th>\n",
       "      <td>BUF</td>\n",
       "      <td>NYJ</td>\n",
       "      <td>BUF</td>\n",
       "      <td>0.727229</td>\n",
       "    </tr>\n",
       "    <tr>\n",
       "      <th>1798</th>\n",
       "      <td>TEN</td>\n",
       "      <td>OAK</td>\n",
       "      <td>TEN</td>\n",
       "      <td>0.530688</td>\n",
       "    </tr>\n",
       "    <tr>\n",
       "      <th>1799</th>\n",
       "      <td>WAS</td>\n",
       "      <td>PHL</td>\n",
       "      <td>WAS</td>\n",
       "      <td>0.668059</td>\n",
       "    </tr>\n",
       "    <tr>\n",
       "      <th>1800</th>\n",
       "      <td>CLE</td>\n",
       "      <td>PIT</td>\n",
       "      <td>PIT</td>\n",
       "      <td>0.413144</td>\n",
       "    </tr>\n",
       "    <tr>\n",
       "      <th>1801</th>\n",
       "      <td>MIA</td>\n",
       "      <td>TB</td>\n",
       "      <td>TB</td>\n",
       "      <td>0.496771</td>\n",
       "    </tr>\n",
       "    <tr>\n",
       "      <th>1802</th>\n",
       "      <td>STL</td>\n",
       "      <td>IND</td>\n",
       "      <td>IND</td>\n",
       "      <td>0.197140</td>\n",
       "    </tr>\n",
       "    <tr>\n",
       "      <th>1803</th>\n",
       "      <td>SF</td>\n",
       "      <td>CAR</td>\n",
       "      <td>SF</td>\n",
       "      <td>0.549821</td>\n",
       "    </tr>\n",
       "    <tr>\n",
       "      <th>1804</th>\n",
       "      <td>GB</td>\n",
       "      <td>SEA</td>\n",
       "      <td>GB</td>\n",
       "      <td>0.657717</td>\n",
       "    </tr>\n",
       "    <tr>\n",
       "      <th>1805</th>\n",
       "      <td>DAL</td>\n",
       "      <td>NYG</td>\n",
       "      <td>DAL</td>\n",
       "      <td>0.644147</td>\n",
       "    </tr>\n",
       "    <tr>\n",
       "      <th>1806</th>\n",
       "      <td>MIN</td>\n",
       "      <td>NO</td>\n",
       "      <td>MIN</td>\n",
       "      <td>0.602452</td>\n",
       "    </tr>\n",
       "    <tr>\n",
       "      <th>1807</th>\n",
       "      <td>DEN</td>\n",
       "      <td>SD</td>\n",
       "      <td>DEN</td>\n",
       "      <td>0.527894</td>\n",
       "    </tr>\n",
       "  </tbody>\n",
       "</table>\n",
       "</div>"
      ],
      "text/plain": [
       "     home_team away_team winner  win_prob\n",
       "1792        NE        KC     NE  0.710502\n",
       "1793       DET       ARZ    ARZ  0.476534\n",
       "1794       CHI       ATL    ATL  0.294762\n",
       "1795       CIN       BAL    CIN  0.668178\n",
       "1796       HOU       JAC    HOU  0.608317\n",
       "1797       BUF       NYJ    BUF  0.727229\n",
       "1798       TEN       OAK    TEN  0.530688\n",
       "1799       WAS       PHL    WAS  0.668059\n",
       "1800       CLE       PIT    PIT  0.413144\n",
       "1801       MIA        TB     TB  0.496771\n",
       "1802       STL       IND    IND  0.197140\n",
       "1803        SF       CAR     SF  0.549821\n",
       "1804        GB       SEA     GB  0.657717\n",
       "1805       DAL       NYG    DAL  0.644147\n",
       "1806       MIN        NO    MIN  0.602452\n",
       "1807       DEN        SD    DEN  0.527894"
      ]
     },
     "execution_count": 23,
     "metadata": {},
     "output_type": "execute_result"
    }
   ],
   "source": [
    "from sklearn.linear_model import LogisticRegression\n",
    "\n",
    "games_16 = games_w[games_w['year']<2017] \n",
    "games_17 = games_w[games_w['year']==2017]\n",
    "\n",
    "training_cols = [col for col in games_w if col.endswith('diff')]\n",
    "\n",
    "logit = LogisticRegression(fit_intercept=True)\n",
    "logit.fit(games_16[training_cols],games_16['home_win'])\n",
    "\n",
    "preds=logit.predict(games_17[training_cols])\n",
    "\n",
    "games_17['prediction'] = preds\n",
    "\n",
    "games_17['winner'] = np.where(games_17['prediction']==1,games_17['home_team'],games_17['away_team'])\n",
    "\n",
    "games_17['win_prob'] = logit.predict_proba(games_17[training_cols])[:,1]\n",
    "\n",
    "games_17[['home_team','away_team','winner','win_prob']]"
   ]
  },
  {
   "cell_type": "markdown",
   "metadata": {
    "ExecuteTime": {
     "end_time": "2017-08-31T08:16:49.708349",
     "start_time": "2017-08-31T08:16:49.702492"
    }
   },
   "source": [
    "why are the results a little different --> sklearn defaults to using the l2 penalty; see the get_params() below\n",
    "\n",
    "get accuracy from above\n",
    "\n",
    "cross validate"
   ]
  },
  {
   "cell_type": "code",
   "execution_count": 24,
   "metadata": {
    "ExecuteTime": {
     "end_time": "2017-08-31T20:39:24.422701",
     "start_time": "2017-08-31T20:39:24.418366"
    },
    "collapsed": false
   },
   "outputs": [
    {
     "data": {
      "text/plain": [
       "{'C': 1.0,\n",
       " 'class_weight': None,\n",
       " 'dual': False,\n",
       " 'fit_intercept': True,\n",
       " 'intercept_scaling': 1,\n",
       " 'max_iter': 100,\n",
       " 'multi_class': 'ovr',\n",
       " 'n_jobs': 1,\n",
       " 'penalty': 'l2',\n",
       " 'random_state': None,\n",
       " 'solver': 'liblinear',\n",
       " 'tol': 0.0001,\n",
       " 'verbose': 0,\n",
       " 'warm_start': False}"
      ]
     },
     "execution_count": 24,
     "metadata": {},
     "output_type": "execute_result"
    }
   ],
   "source": [
    "logit.get_params()"
   ]
  },
  {
   "cell_type": "code",
   "execution_count": 193,
   "metadata": {
    "ExecuteTime": {
     "end_time": "2017-08-31T12:55:43.355864",
     "start_time": "2017-08-31T12:55:43.283405"
    },
    "collapsed": false
   },
   "outputs": [
    {
     "name": "stdout",
     "output_type": "stream",
     "text": [
      "Accuracy: 0.62 (+/- 0.07)\n"
     ]
    }
   ],
   "source": [
    "from sklearn import preprocessing\n",
    "from sklearn import metrics, cross_validation\n",
    "\n",
    "training_cols = [col for col in games_w if col.endswith('diff')]\n",
    "g16_scaled = pd.DataFrame(preprocessing.scale(games_16[training_cols]))\n",
    "\n",
    "\n",
    "scores = cross_validation.cross_val_score(logit, g16_scaled, games_16['home_win'], cv=10)\n",
    "# accuracy\n",
    "print(\"Accuracy: %0.2f (+/- %0.2f)\" % (scores.mean(), scores.std() * 2))\n"
   ]
  }
 ],
 "metadata": {
  "kernelspec": {
   "display_name": "Python 3",
   "language": "python",
   "name": "python3"
  },
  "language_info": {
   "codemirror_mode": {
    "name": "ipython",
    "version": 3
   },
   "file_extension": ".py",
   "mimetype": "text/x-python",
   "name": "python",
   "nbconvert_exporter": "python",
   "pygments_lexer": "ipython3",
   "version": "3.5.2"
  },
  "latex_envs": {
   "LaTeX_envs_menu_present": true,
   "bibliofile": "biblio.bib",
   "cite_by": "apalike",
   "current_citInitial": 1,
   "eqLabelWithNumbers": true,
   "eqNumInitial": 1,
   "labels_anchors": false,
   "latex_user_defs": false,
   "report_style_numbering": false,
   "user_envs_cfg": false
  },
  "toc": {
   "colors": {
    "hover_highlight": "#DAA520",
    "running_highlight": "#FF0000",
    "selected_highlight": "#FFD700"
   },
   "moveMenuLeft": true,
   "nav_menu": {
    "height": "84px",
    "width": "252px"
   },
   "navigate_menu": true,
   "number_sections": true,
   "sideBar": true,
   "threshold": 4,
   "toc_cell": false,
   "toc_section_display": "block",
   "toc_window_display": false
  }
 },
 "nbformat": 4,
 "nbformat_minor": 2
}
